{
 "cells": [
  {
   "cell_type": "code",
   "execution_count": 3,
   "id": "9305db35",
   "metadata": {},
   "outputs": [
    {
     "name": "stdout",
     "output_type": "stream",
     "text": [
      "['Magnus Carlsen vs. Fabiano Caruana', 'Magnus Carlsen vs. Yifan Hou', 'Magnus Carlsen vs. Wenjun Ju', 'Fabiano Caruana vs. Magnus Carlsen', 'Fabiano Caruana vs. Yifan Hou', 'Fabiano Caruana vs. Wenjun Ju', 'Yifan Hou vs. Magnus Carlsen', 'Yifan Hou vs. Fabiano Caruana', 'Yifan Hou vs. Wenjun Ju', 'Wenjun Ju vs. Magnus Carlsen', 'Wenjun Ju vs. Fabiano Caruana', 'Wenjun Ju vs. Yifan Hou']\n",
      "{'Wenjun Ju vs. Magnus Carlsen', 'Wenjun Ju vs. Yifan Hou', 'Fabiano Caruana vs. Wenjun Ju', 'Fabiano Caruana vs. Yifan Hou', 'Yifan Hou vs. Fabiano Caruana', 'Yifan Hou vs. Wenjun Ju', 'Yifan Hou vs. Magnus Carlsen', 'Wenjun Ju vs. Fabiano Caruana', 'Magnus Carlsen vs. Fabiano Caruana', 'Magnus Carlsen vs. Yifan Hou', 'Magnus Carlsen vs. Wenjun Ju', 'Fabiano Caruana vs. Magnus Carlsen'}\n"
     ]
    }
   ],
   "source": [
    "players = ['Magnus Carlsen', 'Fabiano Caruana', 'Yifan Hou', 'Wenjun Ju']\n",
    "print([x + ' vs. ' + y for x in players for y in players if x != y])\n",
    "print({x + ' vs. ' + y for x in players for y in players if x != y})"
   ]
  },
  {
   "cell_type": "code",
   "execution_count": 6,
   "id": "267ecb28",
   "metadata": {},
   "outputs": [
    {
     "name": "stdout",
     "output_type": "stream",
     "text": [
      "{'Vivian': 70, 'Racheal': 82, 'Tom': 80, 'Adrian': 79}\n"
     ]
    }
   ],
   "source": [
    "players = ['Vivian', 'Racheal', 'Tom', 'Adrian']\n",
    "scores = [70, 82, 80, 79]\n",
    "print({players[x]:scores[x] for x in range(len(players))})"
   ]
  },
  {
   "cell_type": "code",
   "execution_count": 7,
   "id": "5918f865",
   "metadata": {},
   "outputs": [
    {
     "name": "stdout",
     "output_type": "stream",
     "text": [
      "{'Vivian': 70, 'Racheal': 82, 'Tom': 80, 'Adrian': 79}\n"
     ]
    }
   ],
   "source": [
    "print({x: y for x, y in zip(players, scores)})"
   ]
  }
 ],
 "metadata": {
  "kernelspec": {
   "display_name": "Python 3",
   "language": "python",
   "name": "python3"
  },
  "language_info": {
   "codemirror_mode": {
    "name": "ipython",
    "version": 3
   },
   "file_extension": ".py",
   "mimetype": "text/x-python",
   "name": "python",
   "nbconvert_exporter": "python",
   "pygments_lexer": "ipython3",
   "version": "3.13.3"
  }
 },
 "nbformat": 4,
 "nbformat_minor": 5
}
