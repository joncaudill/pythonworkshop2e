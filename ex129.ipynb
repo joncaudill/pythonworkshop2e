{
 "cells": [
  {
   "cell_type": "code",
   "execution_count": 2,
   "id": "77cbfb06-02a5-4e75-99c7-9aff0d738190",
   "metadata": {},
   "outputs": [],
   "source": [
    "import numpy as np"
   ]
  },
  {
   "cell_type": "code",
   "execution_count": 3,
   "id": "4fec5c9c-ceac-45a3-805a-378acc2133f2",
   "metadata": {},
   "outputs": [
    {
     "data": {
      "text/plain": [
       "list"
      ]
     },
     "execution_count": 3,
     "metadata": {},
     "output_type": "execute_result"
    }
   ],
   "source": [
    "test_scores = [70,65,95,88]\n",
    "type(test_scores)"
   ]
  },
  {
   "cell_type": "code",
   "execution_count": 4,
   "id": "49c50c95-d957-40a7-9a7c-39c036a54762",
   "metadata": {},
   "outputs": [
    {
     "data": {
      "text/plain": [
       "numpy.ndarray"
      ]
     },
     "execution_count": 4,
     "metadata": {},
     "output_type": "execute_result"
    }
   ],
   "source": [
    "scores = np.array(test_scores)\n",
    "type(scores)"
   ]
  },
  {
   "cell_type": "code",
   "execution_count": 5,
   "id": "12b58856-e055-47dc-91cd-803bf5c4be28",
   "metadata": {},
   "outputs": [
    {
     "data": {
      "text/plain": [
       "79.5"
      ]
     },
     "execution_count": 5,
     "metadata": {},
     "output_type": "execute_result"
    }
   ],
   "source": [
    "scores.mean()"
   ]
  },
  {
   "cell_type": "code",
   "execution_count": null,
   "id": "1e9a1fad-2e04-4be3-96c7-216c724c401d",
   "metadata": {},
   "outputs": [],
   "source": []
  }
 ],
 "metadata": {
  "kernelspec": {
   "display_name": "Python [conda env:base] *",
   "language": "python",
   "name": "conda-base-py"
  },
  "language_info": {
   "codemirror_mode": {
    "name": "ipython",
    "version": 3
   },
   "file_extension": ".py",
   "mimetype": "text/x-python",
   "name": "python",
   "nbconvert_exporter": "python",
   "pygments_lexer": "ipython3",
   "version": "3.12.7"
  }
 },
 "nbformat": 4,
 "nbformat_minor": 5
}
