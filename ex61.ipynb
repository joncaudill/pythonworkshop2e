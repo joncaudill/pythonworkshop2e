{
 "cells": [
  {
   "cell_type": "code",
   "execution_count": 3,
   "id": "1dd69a67",
   "metadata": {},
   "outputs": [],
   "source": [
    "f = open('log.txt', 'w', encoding='utf-8')\n"
   ]
  },
  {
   "cell_type": "code",
   "execution_count": 4,
   "id": "cb5988f8",
   "metadata": {},
   "outputs": [
    {
     "name": "stdout",
     "output_type": "stream",
     "text": [
      "20250528_21:11:28- 0\n",
      "20250528_21:11:29- 1\n",
      "20250528_21:11:30- 2\n",
      "20250528_21:11:31- 3\n",
      "20250528_21:11:32- 4\n",
      "20250528_21:11:33- 5\n",
      "20250528_21:11:34- 6\n",
      "20250528_21:11:35- 7\n",
      "20250528_21:11:36- 8\n",
      "20250528_21:11:37- 9\n"
     ]
    }
   ],
   "source": [
    "from datetime import datetime\n",
    "import time\n",
    "for i in range(0, 10):\n",
    "    print(datetime.now().strftime('%Y%m%d_%H:%M:%S-'), i)\n",
    "    f.write(datetime.now().strftime('%Y%m%d_%H:%M:%S-'))\n",
    "    time.sleep(1)\n",
    "    f.write(str(i))\n",
    "    f.write('\\n')\n",
    "f.close()\n",
    "            "
   ]
  },
  {
   "cell_type": "code",
   "execution_count": null,
   "id": "2314a41d",
   "metadata": {},
   "outputs": [],
   "source": []
  }
 ],
 "metadata": {
  "kernelspec": {
   "display_name": "Python 3",
   "language": "python",
   "name": "python3"
  },
  "language_info": {
   "codemirror_mode": {
    "name": "ipython",
    "version": 3
   },
   "file_extension": ".py",
   "mimetype": "text/x-python",
   "name": "python",
   "nbconvert_exporter": "python",
   "pygments_lexer": "ipython3",
   "version": "3.13.3"
  }
 },
 "nbformat": 4,
 "nbformat_minor": 5
}
