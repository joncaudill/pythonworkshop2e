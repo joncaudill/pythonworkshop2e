{
 "cells": [
  {
   "cell_type": "code",
   "execution_count": 1,
   "id": "2ec9dd30",
   "metadata": {},
   "outputs": [],
   "source": [
    "def avg(marks):\n",
    "    assert len(marks) != 0\n",
    "    return round(sum(marks) / len(marks), 2)"
   ]
  },
  {
   "cell_type": "code",
   "execution_count": 2,
   "id": "c81a7ea4",
   "metadata": {},
   "outputs": [
    {
     "name": "stdout",
     "output_type": "stream",
     "text": [
      "Semester 1 Average: 86.6\n"
     ]
    }
   ],
   "source": [
    "sem1_marks = [85, 90, 78, 92, 88]\n",
    "print(\"Semester 1 Average:\", avg(sem1_marks))"
   ]
  },
  {
   "cell_type": "code",
   "execution_count": 3,
   "id": "149ebe63",
   "metadata": {},
   "outputs": [
    {
     "ename": "AssertionError",
     "evalue": "",
     "output_type": "error",
     "traceback": [
      "\u001b[31m---------------------------------------------------------------------------\u001b[39m",
      "\u001b[31mAssertionError\u001b[39m                            Traceback (most recent call last)",
      "\u001b[36mCell\u001b[39m\u001b[36m \u001b[39m\u001b[32mIn[3]\u001b[39m\u001b[32m, line 2\u001b[39m\n\u001b[32m      1\u001b[39m ranks = []\n\u001b[32m----> \u001b[39m\u001b[32m2\u001b[39m \u001b[38;5;28mprint\u001b[39m(\u001b[33m\"\u001b[39m\u001b[33mAverage of marks for semester 1:\u001b[39m\u001b[33m\"\u001b[39m, \u001b[43mavg\u001b[49m\u001b[43m(\u001b[49m\u001b[43mranks\u001b[49m\u001b[43m)\u001b[49m)\n",
      "\u001b[36mCell\u001b[39m\u001b[36m \u001b[39m\u001b[32mIn[1]\u001b[39m\u001b[32m, line 2\u001b[39m, in \u001b[36mavg\u001b[39m\u001b[34m(marks)\u001b[39m\n\u001b[32m      1\u001b[39m \u001b[38;5;28;01mdef\u001b[39;00m\u001b[38;5;250m \u001b[39m\u001b[34mavg\u001b[39m(marks):\n\u001b[32m----> \u001b[39m\u001b[32m2\u001b[39m     \u001b[38;5;28;01massert\u001b[39;00m \u001b[38;5;28mlen\u001b[39m(marks) != \u001b[32m0\u001b[39m\n\u001b[32m      3\u001b[39m     \u001b[38;5;28;01mreturn\u001b[39;00m \u001b[38;5;28mround\u001b[39m(\u001b[38;5;28msum\u001b[39m(marks) / \u001b[38;5;28mlen\u001b[39m(marks), \u001b[32m2\u001b[39m)\n",
      "\u001b[31mAssertionError\u001b[39m: "
     ]
    }
   ],
   "source": [
    "ranks = []\n",
    "print(\"Average of marks for semester 1:\", avg(ranks))"
   ]
  }
 ],
 "metadata": {
  "kernelspec": {
   "display_name": "Python 3",
   "language": "python",
   "name": "python3"
  },
  "language_info": {
   "codemirror_mode": {
    "name": "ipython",
    "version": 3
   },
   "file_extension": ".py",
   "mimetype": "text/x-python",
   "name": "python",
   "nbconvert_exporter": "python",
   "pygments_lexer": "ipython3",
   "version": "3.13.3"
  }
 },
 "nbformat": 4,
 "nbformat_minor": 5
}
